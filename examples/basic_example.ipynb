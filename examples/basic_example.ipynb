{
 "cells": [
  {
   "cell_type": "code",
   "execution_count": 1,
   "id": "0fbdd8c7-5425-49b0-be82-92d31eced131",
   "metadata": {},
   "outputs": [
    {
     "name": "stderr",
     "output_type": "stream",
     "text": [
      "Warning: Ignoring XDG_SESSION_TYPE=wayland on Gnome. Use QT_QPA_PLATFORM=wayland to run on Wayland anyway.\n"
     ]
    }
   ],
   "source": [
    "%matplotlib qt\n",
    "\n",
    "import hyperspy.api as hs\n",
    "\n",
    "from generalizedplanck.components import (GeneralizedPlanck, Reflectance, \n",
    "                                          IdealSqrtAbsorption, UrbachTail)\n",
    "from generalizedplanck.utils import get_nk\n",
    "from generalizedplanck.data import gaas_cl\n",
    "import matplotlib.pyplot as plt"
   ]
  },
  {
   "cell_type": "code",
   "execution_count": 2,
   "id": "aedc78e8-31e5-4d8e-95b3-ffa1b40e8f07",
   "metadata": {},
   "outputs": [],
   "source": [
    "def fit_gen_planck(signal=None, absorption_coeff=None, reflectance=None, tail=None,\n",
    "                   gui=False, plotComponents=False, fit_lim=None, add_component=None, \n",
    "                   **kwargs):\n",
    "    '''\n",
    "\n",
    "    Parameters\n",
    "    ----------\n",
    "    absorption : TYPE, optional\n",
    "        DESCRIPTION. The default is None.\n",
    "    reflectance : TYPE, optional\n",
    "        DESCRIPTION. The default is None.\n",
    "    tail : TYPE, optional\n",
    "        DESCRIPTION. The default is None.\n",
    "    Eg : TYPE, optional\n",
    "        DESCRIPTION. The default is None.\n",
    "    g : TYPE, optional\n",
    "        DESCRIPTION. The default is None.\n",
    "    p : TYPE, optional\n",
    "        DESCRIPTION. The default is None.\n",
    "    T : TYPE, optional\n",
    "        DESCRIPTION. The default is None.\n",
    "    d : TYPE, optional\n",
    "        DESCRIPTION. The default is None.\n",
    "    Efv : TYPE, optional\n",
    "        DESCRIPTION. The default is None.\n",
    "    Efc : TYPE, optional\n",
    "        DESCRIPTION. The default is None.\n",
    "    **kwargs : TYPE\n",
    "        DESCRIPTION.\n",
    "\n",
    "    Returns\n",
    "    -------\n",
    "    None.\n",
    "\n",
    "    '''\n",
    "    from matplotlib.pyplot import ion\n",
    "    #initialize genp with default values for parameters\n",
    "    genp = GeneralizedPlanck(reflectance=reflectance,\n",
    "                             ideal_abs_coeff=absorption_coeff,\n",
    "                             tail=tail\n",
    "                             )\n",
    "    \n",
    "    for param in genp.parameters:\n",
    "        if param.name in kwargs:\n",
    "            if len(kwargs[param.name]) == 4:\n",
    "                param.free = kwargs[param.name][0]\n",
    "                param.value = kwargs[param.name][1]\n",
    "                param.bmin = kwargs[param.name][2]\n",
    "                param.bmax = kwargs[param.name][3]\n",
    "            elif len(kwargs[param.name]) == 2:\n",
    "                param.free = kwargs[param.name][0]\n",
    "                param.value = kwargs[param.name][1]\n",
    "            else:\n",
    "                text = ('It accepts only [free, value] or'\n",
    "                        ' [free, value, bmin, bmax]')\n",
    "                raise NotImplementedError(text)\n",
    "    m = signal.create_model()\n",
    "    m.append(genp)\n",
    "    m.plot()\n",
    "    plt.pause(1)\n",
    "    optimizer = 'lm'\n",
    "    loss_function = 'ls'\n",
    "    if 'optimizer' in kwargs:\n",
    "        optimizer = kwargs['optimizer']\n",
    "    elif 'loss_function' in kwargs:\n",
    "        loss_function = kwargs['loss_function']\n",
    "    if fit_lim:\n",
    "        m.set_signal_range(*fit_lim)\n",
    "    if gui:\n",
    "        m.gui()\n",
    "    else:\n",
    "        m.fit(bounded=True, optimizer=optimizer, loss_function=loss_function)\n",
    "    if plotComponents:\n",
    "        genp.plotComponents()\n",
    "    m.print_current_values()\n",
    "    return m"
   ]
  },
  {
   "cell_type": "markdown",
   "id": "366c9d56-68ff-421b-9073-3d3016162bc8",
   "metadata": {},
   "source": [
    "Create a fake GaAs CL signal"
   ]
  },
  {
   "cell_type": "code",
   "execution_count": 3,
   "id": "f2d26203-aa9c-43a7-b8cf-22f4587b23ed",
   "metadata": {},
   "outputs": [],
   "source": [
    "s = gaas_cl()"
   ]
  },
  {
   "cell_type": "markdown",
   "id": "8ecd6628-a0e3-418a-b66c-7a24787a1d59",
   "metadata": {},
   "source": [
    "Creating a reflectance object for the Generalised Planck law"
   ]
  },
  {
   "cell_type": "code",
   "execution_count": 4,
   "id": "9a7e1557-480f-4f04-9cc2-4026200dc412",
   "metadata": {},
   "outputs": [],
   "source": [
    "n1 = get_nk(n=1)\n",
    "n2 = get_nk(shelf='main', book='GaAs', page='Papatryfonos')\n",
    "gaas_r = Reflectance(theta=0, n1=n1, n2=n2, pol=None) "
   ]
  },
  {
   "cell_type": "markdown",
   "id": "eb9bad4a-c858-4911-b047-c2cfe1afecf4",
   "metadata": {},
   "source": [
    "Create an ideal sqrt absorptio coefficient plus an Urbach tail"
   ]
  },
  {
   "cell_type": "code",
   "execution_count": 5,
   "id": "b6483f99-7d87-4d4e-b780-5ccd87b7b3a6",
   "metadata": {},
   "outputs": [],
   "source": [
    "gaas_ideal_abs = IdealSqrtAbsorption(Eg=1.42, E0=1.6, a0=14800)\n",
    "gaas_tail = UrbachTail(g=0.015)"
   ]
  },
  {
   "cell_type": "markdown",
   "id": "58af7d51-e469-45ac-9321-d45dc0888c9e",
   "metadata": {},
   "source": [
    "Put everything in the Generalised Planck component"
   ]
  },
  {
   "cell_type": "code",
   "execution_count": 6,
   "id": "62c62981-4ff4-4cc2-8907-fd2ef9a64e9b",
   "metadata": {},
   "outputs": [],
   "source": [
    "gaas_genp = GeneralizedPlanck(Eg=1.42, g=0.01, p=0.8, T=300, d=150, \n",
    "                              Efv=0, Efc=0.1,\n",
    "                              reflectance=gaas_r,\n",
    "                              ideal_abs_coeff=gaas_ideal_abs,\n",
    "                              tail=gaas_tail)"
   ]
  },
  {
   "cell_type": "markdown",
   "id": "0993542c-7ed7-4394-8da6-c13284ab8b46",
   "metadata": {},
   "source": [
    "Fitting example"
   ]
  },
  {
   "cell_type": "code",
   "execution_count": 7,
   "id": "3782792d-442d-4c27-8aae-420611652c29",
   "metadata": {},
   "outputs": [
    {
     "data": {
      "application/vnd.jupyter.widget-view+json": {
       "model_id": "3e1a5e3c4f90452cb66490b3c0c511c2",
       "version_major": 2,
       "version_minor": 0
      },
      "text/plain": [
       "Accordion(children=(VBox(children=(Checkbox(value=True, description='active'), HBox(children=(FloatText(value=…"
      ]
     },
     "metadata": {},
     "output_type": "display_data"
    },
    {
     "data": {
      "text/html": [
       "<h4>Model1D: GaAs RT CL</h4><p><b>CurrentComponentValues: GeneralizedPlanck</b><br />Active: True</p><table style=\"width:100%\"><tr><th>Parameter Name</th><th>Free</th>\n",
       "            <th>Value</th><th>Std</th><th>Min</th><th>Max</th><th>Linear</th></tr><tr><td>Eg</td><td>True</td><td>  1.39</td>\n",
       "                    <td></td><td>  1.39</td><td>  1.42</td><td>False</td></tr><tr><td>g</td><td>True</td><td>  0.01</td>\n",
       "                    <td></td><td> 0.001</td><td>  0.05</td><td>False</td></tr><tr><td>p</td><td>False</td><td>  0.89</td>\n",
       "                    <td></td><td>     0</td><td>     1</td><td>False</td></tr><tr><td>T</td><td>False</td><td>   295</td>\n",
       "                    <td></td><td>     0</td><td></td><td>False</td></tr><tr><td>d</td><td>False</td><td>  2000</td>\n",
       "                    <td></td><td>     0</td><td></td><td>False</td></tr><tr><td>Efv</td><td>True</td><td>     0</td>\n",
       "                    <td></td><td>  -0.1</td><td>   0.1</td><td>False</td></tr><tr><td>Efc</td><td>False</td><td>  -0.5</td>\n",
       "                    <td></td><td></td><td></td><td>False</td></tr><tr><td>theta</td><td>Twinned</td><td>     0</td>\n",
       "                    <td></td><td></td><td></td><td>False</td></tr><tr><td>a0</td><td>Twinned</td><td> 14800</td>\n",
       "                    <td></td><td></td><td></td><td>False</td></tr><tr><td>E0</td><td>Twinned</td><td>   1.6</td>\n",
       "                    <td></td><td></td><td></td><td>False</td></tr></table>"
      ],
      "text/plain": [
       "Model1D: GaAs RT CL\n",
       "CurrentComponentValues: GeneralizedPlanck\n",
       "Active: True\n",
       "Parameter Name |    Free |      Value |        Std |        Min |        Max | Linear\n",
       "============== | ======= | ========== | ========== | ========== | ========== | ======\n",
       "            Eg |    True |       1.39 |       None |       1.39 |       1.42 |  False\n",
       "             g |    True |       0.01 |       None |      0.001 |       0.05 |  False\n",
       "             p |   False |       0.89 |       None |        0.0 |        1.0 |  False\n",
       "             T |   False |      295.0 |       None |        0.0 |       None |  False\n",
       "             d |   False |     2000.0 |       None |        0.0 |       None |  False\n",
       "           Efv |    True |        0.0 |       None |       -0.1 |        0.1 |  False\n",
       "           Efc |   False |       -0.5 |       None |       None |       None |  False\n",
       "         theta | Twinned |        0.0 |       None |       None |       None |  False\n",
       "            a0 | Twinned |    14800.0 |       None |       None |       None |  False\n",
       "            E0 | Twinned |        1.6 |       None |       None |       None |  False\n"
      ]
     },
     "metadata": {},
     "output_type": "display_data"
    }
   ],
   "source": [
    "m = fit_gen_planck(s, absorption_coeff=gaas_ideal_abs, reflectance=gaas_r, tail=gaas_tail,\n",
    "               plotComponents=True, gui=True,\n",
    "               Eg=[True,1.39,1.39,1.42],\n",
    "               g=[True, 0.01, 0.001, 0.05],\n",
    "               p=[False, 0.89],\n",
    "               d=[False, 2000],\n",
    "               T=[False, 295],\n",
    "               Efv=[True, 0, -0.1, 0.1],\n",
    "               Efc=[False, -0.5])"
   ]
  },
  {
   "cell_type": "code",
   "execution_count": null,
   "id": "999bdced-30b1-4557-b135-be711323dd3d",
   "metadata": {},
   "outputs": [],
   "source": []
  }
 ],
 "metadata": {
  "kernelspec": {
   "display_name": "Python 3 (ipykernel)",
   "language": "python",
   "name": "python3"
  },
  "language_info": {
   "codemirror_mode": {
    "name": "ipython",
    "version": 3
   },
   "file_extension": ".py",
   "mimetype": "text/x-python",
   "name": "python",
   "nbconvert_exporter": "python",
   "pygments_lexer": "ipython3",
   "version": "3.12.7"
  }
 },
 "nbformat": 4,
 "nbformat_minor": 5
}
