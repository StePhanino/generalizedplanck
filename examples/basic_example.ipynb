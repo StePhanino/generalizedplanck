{
 "cells": [
  {
   "cell_type": "code",
   "execution_count": null,
   "id": "0fbdd8c7-5425-49b0-be82-92d31eced131",
   "metadata": {},
   "outputs": [],
   "source": [
    "%matplotlib qt\n",
    "\n",
    "import hyperspy.api as hs\n",
    "from generalizedplanck.components import (GeneralizedPlanck, Reflectance, \n",
    "                                          IdealSqrtAbsorption, UrbachTail)\n",
    "from generalizedplanck.utils import get_nk, fit_signal\n",
    "from generalizedplanck.data import gaas_cl\n",
    "import matplotlib.pyplot as plt\n",
    "import numpy as np"
   ]
  },
  {
   "cell_type": "markdown",
   "id": "366c9d56-68ff-421b-9073-3d3016162bc8",
   "metadata": {},
   "source": [
    "Create a fake GaAs CL signal"
   ]
  },
  {
   "cell_type": "code",
   "execution_count": null,
   "id": "f2d26203-aa9c-43a7-b8cf-22f4587b23ed",
   "metadata": {},
   "outputs": [],
   "source": [
    "s = gaas_cl()"
   ]
  },
  {
   "cell_type": "markdown",
   "id": "8ecd6628-a0e3-418a-b66c-7a24787a1d59",
   "metadata": {},
   "source": [
    "Creating a reflectance object for the Generalised Planck law"
   ]
  },
  {
   "cell_type": "code",
   "execution_count": null,
   "id": "9a7e1557-480f-4f04-9cc2-4026200dc412",
   "metadata": {},
   "outputs": [],
   "source": [
    "n1 = get_nk(n=1)\n",
    "n2 = get_nk(shelf='main', book='GaAs', page='Papatryfonos')\n",
    "gaas_r = Reflectance(theta=0, n1=n1, n2=n2, pol=None) "
   ]
  },
  {
   "cell_type": "markdown",
   "id": "eb9bad4a-c858-4911-b047-c2cfe1afecf4",
   "metadata": {},
   "source": [
    "Create an ideal sqrt absorptio coefficient plus an Urbach tail"
   ]
  },
  {
   "cell_type": "code",
   "execution_count": null,
   "id": "b6483f99-7d87-4d4e-b780-5ccd87b7b3a6",
   "metadata": {},
   "outputs": [],
   "source": [
    "gaas_ideal_abs = IdealSqrtAbsorption(Eg=1.42, E0=1.6, a0=14800, include_tail=False, g=0.015,)\n",
    "gaas_tail = UrbachTail(g=0.015)"
   ]
  },
  {
   "cell_type": "markdown",
   "id": "58af7d51-e469-45ac-9321-d45dc0888c9e",
   "metadata": {},
   "source": [
    "Here you can define your Generalised Planck component"
   ]
  },
  {
   "cell_type": "code",
   "execution_count": null,
   "id": "62c62981-4ff4-4cc2-8907-fd2ef9a64e9b",
   "metadata": {},
   "outputs": [],
   "source": [
    "gaas_genp = GeneralizedPlanck(Eg=1.42, g=0.01, p=0.8, T=300, d=150, \n",
    "                              Efv=0, Efc=0.1,\n",
    "                              analytical=True,\n",
    "                              reflectance=gaas_r,\n",
    "                              ideal_abs_coeff=gaas_ideal_abs,\n",
    "                              tail=gaas_tail)"
   ]
  },
  {
   "cell_type": "markdown",
   "id": "7dc76175-6d02-485c-9fbe-a7cb759713d9",
   "metadata": {},
   "source": [
    "You can try to plot it"
   ]
  },
  {
   "cell_type": "code",
   "execution_count": null,
   "id": "fcc57002-59ce-4d2e-a9f2-3f728241ca20",
   "metadata": {},
   "outputs": [],
   "source": [
    "en = np.linspace(1.2, 1.8, 1000)\n",
    "y = gaas_genp.function(en)\n",
    "plt.plot(en,y)"
   ]
  },
  {
   "cell_type": "markdown",
   "id": "0993542c-7ed7-4394-8da6-c13284ab8b46",
   "metadata": {},
   "source": [
    "If you want to fit some data you can use the `fit_signal` function. If `gui` is `True` you can fit by hand your data. If it is `False` it fits directly the data."
   ]
  },
  {
   "cell_type": "code",
   "execution_count": null,
   "id": "404cae36-8b9b-4141-b606-5a7f5ed7e97b",
   "metadata": {},
   "outputs": [],
   "source": [
    "component_list = [{'id_name' : 'GeneralizedPlanck',\n",
    "                   'name': 'peak@1.39eV',\n",
    "                   'kwargs' : {'analytical':True,\n",
    "                               'reflectance':gaas_r,\n",
    "                               'ideal_abs_coeff':gaas_ideal_abs,\n",
    "                               'tail':gaas_tail},\n",
    "                   'Eg':[1.39,1.39,1.42, True],\n",
    "                   'g':[0.01, 0.001, 0.05, True],\n",
    "                   'p':[False, 0.89],\n",
    "                   'd':[2000, False],\n",
    "                   'T':[295, False],\n",
    "                   'Efv':[0, -0.1, 0.1, True],\n",
    "                   'Efc':[-0.5, False]}\n",
    "                 ]"
   ]
  },
  {
   "cell_type": "code",
   "execution_count": null,
   "id": "0f9bdfce-e095-4a9d-8f56-0afe21c089c2",
   "metadata": {},
   "outputs": [],
   "source": [
    "m = fit_signal(s, components=component_list, gui=True)"
   ]
  }
 ],
 "metadata": {
  "kernelspec": {
   "display_name": "Python 3 (ipykernel)",
   "language": "python",
   "name": "python3"
  },
  "language_info": {
   "codemirror_mode": {
    "name": "ipython",
    "version": 3
   },
   "file_extension": ".py",
   "mimetype": "text/x-python",
   "name": "python",
   "nbconvert_exporter": "python",
   "pygments_lexer": "ipython3",
   "version": "3.12.8"
  }
 },
 "nbformat": 4,
 "nbformat_minor": 5
}
